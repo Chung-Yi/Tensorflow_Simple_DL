{
 "cells": [
  {
   "cell_type": "code",
   "execution_count": 1,
   "metadata": {},
   "outputs": [],
   "source": [
    "import tensorflow as tf"
   ]
  },
  {
   "cell_type": "code",
   "execution_count": 2,
   "metadata": {},
   "outputs": [],
   "source": [
    "# config = tf.ConfigProto()\n",
    "# config.gpu_options.per_process_gpu_memory_fraction = 0.7 \n",
    "# config.gpu_options.allow_growth = True\n",
    "# session = tf.InteractiveSession(config=config)"
   ]
  },
  {
   "cell_type": "code",
   "execution_count": 3,
   "metadata": {},
   "outputs": [],
   "source": [
    "# gpu_options = tf.GPUOptions(per_process_gpu_memory_fraction=0.7)\n",
    "# sess = tf.Session(config=tf.ConfigProto(gpu_options=gpu_options))"
   ]
  },
  {
   "cell_type": "code",
   "execution_count": null,
   "metadata": {},
   "outputs": [],
   "source": []
  },
  {
   "cell_type": "code",
   "execution_count": 4,
   "metadata": {},
   "outputs": [],
   "source": [
    "from tensorflow.examples.tutorials.mnist import input_data"
   ]
  },
  {
   "cell_type": "code",
   "execution_count": 5,
   "metadata": {},
   "outputs": [
    {
     "name": "stdout",
     "output_type": "stream",
     "text": [
      "WARNING:tensorflow:From <ipython-input-5-a839aeb82f4b>:1: read_data_sets (from tensorflow.contrib.learn.python.learn.datasets.mnist) is deprecated and will be removed in a future version.\n",
      "Instructions for updating:\n",
      "Please use alternatives such as official/mnist/dataset.py from tensorflow/models.\n",
      "WARNING:tensorflow:From c:\\users\\user\\anaconda3\\envs\\yienv\\lib\\site-packages\\tensorflow\\contrib\\learn\\python\\learn\\datasets\\mnist.py:260: maybe_download (from tensorflow.contrib.learn.python.learn.datasets.base) is deprecated and will be removed in a future version.\n",
      "Instructions for updating:\n",
      "Please write your own downloading logic.\n",
      "WARNING:tensorflow:From c:\\users\\user\\anaconda3\\envs\\yienv\\lib\\site-packages\\tensorflow\\contrib\\learn\\python\\learn\\datasets\\mnist.py:262: extract_images (from tensorflow.contrib.learn.python.learn.datasets.mnist) is deprecated and will be removed in a future version.\n",
      "Instructions for updating:\n",
      "Please use tf.data to implement this functionality.\n",
      "Extracting MNIST_data/train-images-idx3-ubyte.gz\n",
      "WARNING:tensorflow:From c:\\users\\user\\anaconda3\\envs\\yienv\\lib\\site-packages\\tensorflow\\contrib\\learn\\python\\learn\\datasets\\mnist.py:267: extract_labels (from tensorflow.contrib.learn.python.learn.datasets.mnist) is deprecated and will be removed in a future version.\n",
      "Instructions for updating:\n",
      "Please use tf.data to implement this functionality.\n",
      "Extracting MNIST_data/train-labels-idx1-ubyte.gz\n",
      "WARNING:tensorflow:From c:\\users\\user\\anaconda3\\envs\\yienv\\lib\\site-packages\\tensorflow\\contrib\\learn\\python\\learn\\datasets\\mnist.py:110: dense_to_one_hot (from tensorflow.contrib.learn.python.learn.datasets.mnist) is deprecated and will be removed in a future version.\n",
      "Instructions for updating:\n",
      "Please use tf.one_hot on tensors.\n",
      "Extracting MNIST_data/t10k-images-idx3-ubyte.gz\n",
      "Extracting MNIST_data/t10k-labels-idx1-ubyte.gz\n",
      "WARNING:tensorflow:From c:\\users\\user\\anaconda3\\envs\\yienv\\lib\\site-packages\\tensorflow\\contrib\\learn\\python\\learn\\datasets\\mnist.py:290: DataSet.__init__ (from tensorflow.contrib.learn.python.learn.datasets.mnist) is deprecated and will be removed in a future version.\n",
      "Instructions for updating:\n",
      "Please use alternatives such as official/mnist/dataset.py from tensorflow/models.\n"
     ]
    }
   ],
   "source": [
    "mnist = input_data.read_data_sets(\"MNIST_data/\", one_hot=True)"
   ]
  },
  {
   "cell_type": "code",
   "execution_count": 6,
   "metadata": {},
   "outputs": [],
   "source": [
    "def init_weights(shape):\n",
    "    init_random_dist = tf.truncated_normal(shape, stddev=0.1)\n",
    "    return tf.Variable(init_random_dist)"
   ]
  },
  {
   "cell_type": "code",
   "execution_count": 7,
   "metadata": {},
   "outputs": [],
   "source": [
    "def init_bias(shape):\n",
    "    init_bias_vals = tf.constant(0.1, shape=shape)\n",
    "    return tf.Variable(init_bias_vals)"
   ]
  },
  {
   "cell_type": "code",
   "execution_count": 8,
   "metadata": {},
   "outputs": [],
   "source": [
    "def conv2d(x, W):\n",
    "    return tf.nn.conv2d(x, W, strides=[1, 1, 1, 1], padding='SAME')"
   ]
  },
  {
   "cell_type": "code",
   "execution_count": 9,
   "metadata": {},
   "outputs": [],
   "source": [
    "def max_pool_2by2(x):\n",
    "    return tf.nn.max_pool(x, ksize=[1, 2, 2, 1], strides=[1, 2, 2, 1], padding='SAME')"
   ]
  },
  {
   "cell_type": "code",
   "execution_count": 10,
   "metadata": {},
   "outputs": [],
   "source": [
    "def convolutional_layer(input_x, shape):\n",
    "    W = init_weights(shape)\n",
    "    b = init_bias([shape[3]])\n",
    "    return tf.nn.relu(conv2d(input_x, W) + b)"
   ]
  },
  {
   "cell_type": "code",
   "execution_count": 11,
   "metadata": {},
   "outputs": [],
   "source": [
    "def normal_full_layer(input_layer, size):\n",
    "    input_size = int(input_layer.get_shape()[1])\n",
    "    W = init_weights([input_size, size])\n",
    "    b = init_bias([size])\n",
    "    return tf.matmul(input_layer, W) + b"
   ]
  },
  {
   "cell_type": "code",
   "execution_count": 12,
   "metadata": {},
   "outputs": [],
   "source": [
    "x = tf.placeholder(tf.float32, shape=[None, 784])\n",
    "y_true = tf.placeholder(tf.float32, shape=[None, 10])"
   ]
  },
  {
   "cell_type": "code",
   "execution_count": 13,
   "metadata": {},
   "outputs": [],
   "source": [
    "x_image = tf.reshape(x, [-1, 28, 28, 1])"
   ]
  },
  {
   "cell_type": "code",
   "execution_count": 14,
   "metadata": {},
   "outputs": [
    {
     "name": "stdout",
     "output_type": "stream",
     "text": [
      "WARNING:tensorflow:From c:\\users\\user\\anaconda3\\envs\\yienv\\lib\\site-packages\\tensorflow\\python\\framework\\op_def_library.py:263: colocate_with (from tensorflow.python.framework.ops) is deprecated and will be removed in a future version.\n",
      "Instructions for updating:\n",
      "Colocations handled automatically by placer.\n"
     ]
    }
   ],
   "source": [
    "convo_1 = convolutional_layer(x_image, shape=[5, 5, 1, 32])\n",
    "convo_1_pooling = max_pool_2by2(convo_1)"
   ]
  },
  {
   "cell_type": "code",
   "execution_count": 15,
   "metadata": {},
   "outputs": [],
   "source": [
    "convo_2 = convolutional_layer(convo_1_pooling, shape=[5, 5, 32, 64])\n",
    "convo_2_pooling = max_pool_2by2(convo_2)"
   ]
  },
  {
   "cell_type": "code",
   "execution_count": 16,
   "metadata": {},
   "outputs": [],
   "source": [
    "convo_2_flat = tf.reshape(convo_2_pooling, [-1, 7*7*64])\n",
    "full_layer_one = normal_full_layer(convo_2_flat, 1024)"
   ]
  },
  {
   "cell_type": "code",
   "execution_count": 17,
   "metadata": {},
   "outputs": [
    {
     "name": "stdout",
     "output_type": "stream",
     "text": [
      "WARNING:tensorflow:From <ipython-input-17-9ba37e570df2>:2: calling dropout (from tensorflow.python.ops.nn_ops) with keep_prob is deprecated and will be removed in a future version.\n",
      "Instructions for updating:\n",
      "Please use `rate` instead of `keep_prob`. Rate should be set to `rate = 1 - keep_prob`.\n"
     ]
    }
   ],
   "source": [
    "hold_prob = tf.placeholder(tf.float32)\n",
    "full_one_dropout = tf.nn.dropout(full_layer_one, keep_prob=hold_prob)"
   ]
  },
  {
   "cell_type": "code",
   "execution_count": 18,
   "metadata": {},
   "outputs": [],
   "source": [
    "y_pred = normal_full_layer(full_one_dropout, 10)"
   ]
  },
  {
   "cell_type": "code",
   "execution_count": 19,
   "metadata": {},
   "outputs": [
    {
     "name": "stdout",
     "output_type": "stream",
     "text": [
      "WARNING:tensorflow:From <ipython-input-19-de34d8b053ce>:1: softmax_cross_entropy_with_logits (from tensorflow.python.ops.nn_ops) is deprecated and will be removed in a future version.\n",
      "Instructions for updating:\n",
      "\n",
      "Future major versions of TensorFlow will allow gradients to flow\n",
      "into the labels input on backprop by default.\n",
      "\n",
      "See `tf.nn.softmax_cross_entropy_with_logits_v2`.\n",
      "\n"
     ]
    }
   ],
   "source": [
    "cross_entropy = tf.reduce_mean(tf.nn.softmax_cross_entropy_with_logits(labels=y_true, logits=y_pred))"
   ]
  },
  {
   "cell_type": "code",
   "execution_count": 20,
   "metadata": {},
   "outputs": [],
   "source": [
    "optimizer = tf.train.AdamOptimizer(learning_rate=0.001)\n",
    "train = optimizer.minimize(cross_entropy)"
   ]
  },
  {
   "cell_type": "code",
   "execution_count": 21,
   "metadata": {},
   "outputs": [],
   "source": [
    "init = tf.global_variables_initializer()"
   ]
  },
  {
   "cell_type": "code",
   "execution_count": 22,
   "metadata": {},
   "outputs": [],
   "source": [
    "# gpu_options = tf.GPUOptions(allow_growth=True)\n",
    "gpu_options = tf.GPUOptions(per_process_gpu_memory_fraction=0.7)"
   ]
  },
  {
   "cell_type": "code",
   "execution_count": 23,
   "metadata": {},
   "outputs": [
    {
     "name": "stdout",
     "output_type": "stream",
     "text": [
      "ON Steps: 0\n",
      "ACCURACY:\n",
      "0.1041\n",
      "\n",
      "\n",
      "ON Steps: 100\n",
      "ACCURACY:\n",
      "0.9376\n",
      "\n",
      "\n",
      "ON Steps: 200\n",
      "ACCURACY:\n",
      "0.9625\n",
      "\n",
      "\n",
      "ON Steps: 300\n",
      "ACCURACY:\n",
      "0.9702\n",
      "\n",
      "\n",
      "ON Steps: 400\n",
      "ACCURACY:\n",
      "0.965\n",
      "\n",
      "\n",
      "ON Steps: 500\n",
      "ACCURACY:\n",
      "0.9728\n",
      "\n",
      "\n",
      "ON Steps: 600\n",
      "ACCURACY:\n",
      "0.9717\n",
      "\n",
      "\n",
      "ON Steps: 700\n",
      "ACCURACY:\n",
      "0.9759\n",
      "\n",
      "\n",
      "ON Steps: 800\n",
      "ACCURACY:\n",
      "0.9735\n",
      "\n",
      "\n",
      "ON Steps: 900\n",
      "ACCURACY:\n",
      "0.9763\n",
      "\n",
      "\n",
      "ON Steps: 1000\n",
      "ACCURACY:\n",
      "0.9783\n",
      "\n",
      "\n",
      "ON Steps: 1100\n",
      "ACCURACY:\n",
      "0.9809\n",
      "\n",
      "\n",
      "ON Steps: 1200\n",
      "ACCURACY:\n",
      "0.9754\n",
      "\n",
      "\n",
      "ON Steps: 1300\n",
      "ACCURACY:\n",
      "0.9779\n",
      "\n",
      "\n",
      "ON Steps: 1400\n",
      "ACCURACY:\n",
      "0.978\n",
      "\n",
      "\n",
      "ON Steps: 1500\n",
      "ACCURACY:\n",
      "0.982\n",
      "\n",
      "\n",
      "ON Steps: 1600\n",
      "ACCURACY:\n",
      "0.9855\n",
      "\n",
      "\n",
      "ON Steps: 1700\n",
      "ACCURACY:\n",
      "0.9838\n",
      "\n",
      "\n",
      "ON Steps: 1800\n",
      "ACCURACY:\n",
      "0.9853\n",
      "\n",
      "\n",
      "ON Steps: 1900\n",
      "ACCURACY:\n",
      "0.9779\n",
      "\n",
      "\n",
      "ON Steps: 2000\n",
      "ACCURACY:\n",
      "0.9848\n",
      "\n",
      "\n",
      "ON Steps: 2100\n",
      "ACCURACY:\n",
      "0.984\n",
      "\n",
      "\n",
      "ON Steps: 2200\n",
      "ACCURACY:\n",
      "0.9847\n",
      "\n",
      "\n",
      "ON Steps: 2300\n",
      "ACCURACY:\n",
      "0.9839\n",
      "\n",
      "\n",
      "ON Steps: 2400\n",
      "ACCURACY:\n",
      "0.9835\n",
      "\n",
      "\n",
      "ON Steps: 2500\n",
      "ACCURACY:\n",
      "0.9828\n",
      "\n",
      "\n",
      "ON Steps: 2600\n",
      "ACCURACY:\n",
      "0.9799\n",
      "\n",
      "\n",
      "ON Steps: 2700\n",
      "ACCURACY:\n",
      "0.9787\n",
      "\n",
      "\n",
      "ON Steps: 2800\n",
      "ACCURACY:\n",
      "0.9832\n",
      "\n",
      "\n",
      "ON Steps: 2900\n",
      "ACCURACY:\n",
      "0.9839\n",
      "\n",
      "\n",
      "ON Steps: 3000\n",
      "ACCURACY:\n",
      "0.9883\n",
      "\n",
      "\n",
      "ON Steps: 3100\n",
      "ACCURACY:\n",
      "0.9853\n",
      "\n",
      "\n",
      "ON Steps: 3200\n",
      "ACCURACY:\n",
      "0.9863\n",
      "\n",
      "\n",
      "ON Steps: 3300\n",
      "ACCURACY:\n",
      "0.985\n",
      "\n",
      "\n",
      "ON Steps: 3400\n",
      "ACCURACY:\n",
      "0.9876\n",
      "\n",
      "\n",
      "ON Steps: 3500\n",
      "ACCURACY:\n",
      "0.9858\n",
      "\n",
      "\n",
      "ON Steps: 3600\n",
      "ACCURACY:\n",
      "0.9829\n",
      "\n",
      "\n",
      "ON Steps: 3700\n",
      "ACCURACY:\n",
      "0.983\n",
      "\n",
      "\n",
      "ON Steps: 3800\n",
      "ACCURACY:\n",
      "0.9864\n",
      "\n",
      "\n",
      "ON Steps: 3900\n",
      "ACCURACY:\n",
      "0.9878\n",
      "\n",
      "\n",
      "ON Steps: 4000\n",
      "ACCURACY:\n",
      "0.9869\n",
      "\n",
      "\n",
      "ON Steps: 4100\n",
      "ACCURACY:\n",
      "0.9829\n",
      "\n",
      "\n",
      "ON Steps: 4200\n",
      "ACCURACY:\n",
      "0.9823\n",
      "\n",
      "\n",
      "ON Steps: 4300\n",
      "ACCURACY:\n",
      "0.9844\n",
      "\n",
      "\n",
      "ON Steps: 4400\n",
      "ACCURACY:\n",
      "0.9872\n",
      "\n",
      "\n",
      "ON Steps: 4500\n",
      "ACCURACY:\n",
      "0.9862\n",
      "\n",
      "\n",
      "ON Steps: 4600\n",
      "ACCURACY:\n",
      "0.9869\n",
      "\n",
      "\n",
      "ON Steps: 4700\n",
      "ACCURACY:\n",
      "0.9873\n",
      "\n",
      "\n",
      "ON Steps: 4800\n",
      "ACCURACY:\n",
      "0.9881\n",
      "\n",
      "\n",
      "ON Steps: 4900\n",
      "ACCURACY:\n",
      "0.9842\n",
      "\n",
      "\n"
     ]
    }
   ],
   "source": [
    "steps = 5000\n",
    "with tf.Session(config=tf.ConfigProto(gpu_options=gpu_options)) as sess:\n",
    "    \n",
    "    sess.run(init)\n",
    "    \n",
    "    for i in range(steps):\n",
    "        batch_x, batch_y = mnist.train.next_batch(50)\n",
    "        sess.run(train, feed_dict={x: batch_x, y_true: batch_y, hold_prob: 0.5})\n",
    "        \n",
    "        if i % 100 == 0:\n",
    "            print(f\"ON Steps: {i}\")\n",
    "            print(\"ACCURACY:\")\n",
    "            matches = tf.equal(tf.argmax(y_true, 1), tf.argmax(y_pred, 1))\n",
    "            acc = tf.reduce_mean(tf.cast(matches, tf.float32))\n",
    "            print(sess.run(acc, feed_dict={x: mnist.test.images, y_true: mnist.test.labels, hold_prob: 1.0}))\n",
    "            print('\\n')\n",
    "            \n",
    "            "
   ]
  },
  {
   "cell_type": "code",
   "execution_count": null,
   "metadata": {},
   "outputs": [],
   "source": []
  }
 ],
 "metadata": {
  "kernelspec": {
   "display_name": "Python 3",
   "language": "python",
   "name": "python3"
  },
  "language_info": {
   "codemirror_mode": {
    "name": "ipython",
    "version": 3
   },
   "file_extension": ".py",
   "mimetype": "text/x-python",
   "name": "python",
   "nbconvert_exporter": "python",
   "pygments_lexer": "ipython3",
   "version": "3.7.4"
  }
 },
 "nbformat": 4,
 "nbformat_minor": 2
}
